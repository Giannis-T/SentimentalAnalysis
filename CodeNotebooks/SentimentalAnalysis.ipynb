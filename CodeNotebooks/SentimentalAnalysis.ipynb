{
 "cells": [
  {
   "cell_type": "markdown",
   "metadata": {},
   "source": [
    "Η λογική που θα ακολουθήσω για την δημιουργία λεξικών είναι η εξής:    \n",
    "<br>**Βήμα 1ο**: Θα κρατήσω μόνο τα reviews που έχουν 1 ή 5 αστέρια. Αυτά με 1 αστέρι θα τα κατηγοριοποιήσω ως negative reviews(False), ενώ αυτά που έχουν 5 αστέρια ως positive reviews(True).   \n",
    "<br>**Βήμα 2ο**: Θα ανακατέψω τα reviews και θα αναπαραστήσω τα κείμενα τους σε μορφή vector. Θα χρησιμοποιήσω το CountVectorizer γιατί μετά από δοκιμές μου δίνει καλύτερα αποτελέσματα από το tf-idf vectorizer.\n",
    "<br>**Βήμα 3ο**: Θα εκπαιδεύσω ένα μοντέλο με επίβλεψη Linear Regressor(επειδη μου έδινε τo καλύτερο score στην Ασκηση2), για να μπορεί να κατηγοριοποιήσει με ακρίβεια αυτά τα reviews.   \n",
    "<br>**Βήμα 4ο**: Μετά την εκπαίδευση, θα κοιτάξω σε ποιες λέξεις έχει δώσει την μεγαλύτερη βαρύτητα για κάθε κατηγορία και με αυτές τις λέξεις θα φτιάξω τα λεξικά.    \n",
    "<br>**Βήμα 5ο**: Για να μετρήσω την ακρίβεια των λεξικών, θα χρησιμοποιήσω το accuracy χρησιμοποιώντας έτοιμο dataset που περιέχει θετικές και αρνητικές λέξεις.\n",
    "<br> Θα περιγράψω και το trade-off μεταξύ μεγέθους και ακρίβειας των λεξικών.\n"
   ]
  },
  {
   "cell_type": "code",
   "execution_count": 168,
   "metadata": {},
   "outputs": [],
   "source": [
    "import pandas as pd\n",
    "import numpy as np\n",
    "import sklearn.utils as utils\n",
    "from sklearn.feature_extraction.text import TfidfVectorizer\n",
    "import sklearn.linear_model as linear_model\n",
    "import matplotlib.pyplot as plt \n",
    "from sklearn.feature_extraction.text import CountVectorizer"
   ]
  },
  {
   "cell_type": "code",
   "execution_count": 167,
   "metadata": {},
   "outputs": [
    {
     "name": "stdout",
     "output_type": "stream",
     "text": [
      "(4696, 2)\n"
     ]
    },
    {
     "data": {
      "text/html": [
       "<div>\n",
       "<style scoped>\n",
       "    .dataframe tbody tr th:only-of-type {\n",
       "        vertical-align: middle;\n",
       "    }\n",
       "\n",
       "    .dataframe tbody tr th {\n",
       "        vertical-align: top;\n",
       "    }\n",
       "\n",
       "    .dataframe thead th {\n",
       "        text-align: right;\n",
       "    }\n",
       "</style>\n",
       "<table border=\"1\" class=\"dataframe\">\n",
       "  <thead>\n",
       "    <tr style=\"text-align: right;\">\n",
       "      <th></th>\n",
       "      <th>Negative</th>\n",
       "      <th>Positive</th>\n",
       "    </tr>\n",
       "  </thead>\n",
       "  <tbody>\n",
       "    <tr>\n",
       "      <th>1</th>\n",
       "      <td>abnormal</td>\n",
       "      <td>able</td>\n",
       "    </tr>\n",
       "    <tr>\n",
       "      <th>2</th>\n",
       "      <td>abolish</td>\n",
       "      <td>abundance</td>\n",
       "    </tr>\n",
       "    <tr>\n",
       "      <th>3</th>\n",
       "      <td>abominable</td>\n",
       "      <td>accelerate</td>\n",
       "    </tr>\n",
       "    <tr>\n",
       "      <th>4</th>\n",
       "      <td>abominably</td>\n",
       "      <td>accept</td>\n",
       "    </tr>\n",
       "    <tr>\n",
       "      <th>5</th>\n",
       "      <td>abominate</td>\n",
       "      <td>acclaim</td>\n",
       "    </tr>\n",
       "  </tbody>\n",
       "</table>\n",
       "</div>"
      ],
      "text/plain": [
       "     Negative    Positive\n",
       "1    abnormal        able\n",
       "2     abolish   abundance\n",
       "3  abominable  accelerate\n",
       "4  abominably      accept\n",
       "5   abominate     acclaim"
      ]
     },
     "execution_count": 167,
     "metadata": {},
     "output_type": "execute_result"
    }
   ],
   "source": [
    "true_positive_negatives = pd.read_excel(\"Positive and Negative Word List.xlsx\")\n",
    "true_positive_negatives.rename(columns={\"Negative Sense Word List\": \"Negative\", \"Positive Sense Word List\": \"Positive\"}, inplace=True)\n",
    "true_positive_negatives.dropna(subset= [\"Negative\", \"Positive\"], inplace=True)\n",
    "true_positive_negatives = true_positive_negatives[[\"Negative\", \"Positive\"]]\n",
    "print(true_positive_negatives.shape)\n",
    "true_positive_negatives.head()"
   ]
  },
  {
   "cell_type": "code",
   "execution_count": 67,
   "metadata": {},
   "outputs": [
    {
     "name": "stdout",
     "output_type": "stream",
     "text": [
      "(881973, 3)\n"
     ]
    },
    {
     "data": {
      "text/html": [
       "<div>\n",
       "<style scoped>\n",
       "    .dataframe tbody tr th:only-of-type {\n",
       "        vertical-align: middle;\n",
       "    }\n",
       "\n",
       "    .dataframe tbody tr th {\n",
       "        vertical-align: top;\n",
       "    }\n",
       "\n",
       "    .dataframe thead th {\n",
       "        text-align: right;\n",
       "    }\n",
       "</style>\n",
       "<table border=\"1\" class=\"dataframe\">\n",
       "  <thead>\n",
       "    <tr style=\"text-align: right;\">\n",
       "      <th></th>\n",
       "      <th>review_id</th>\n",
       "      <th>stars</th>\n",
       "      <th>text</th>\n",
       "    </tr>\n",
       "  </thead>\n",
       "  <tbody>\n",
       "    <tr>\n",
       "      <th>0</th>\n",
       "      <td>BiTunyQ73aT9WBnpR9DZGw</td>\n",
       "      <td>5.0</td>\n",
       "      <td>I've taken a lot of spin classes over the year...</td>\n",
       "    </tr>\n",
       "    <tr>\n",
       "      <th>1</th>\n",
       "      <td>AqPFMleE6RsU23_auESxiA</td>\n",
       "      <td>5.0</td>\n",
       "      <td>Wow!  Yummy, different,  delicious.   Our favo...</td>\n",
       "    </tr>\n",
       "    <tr>\n",
       "      <th>2</th>\n",
       "      <td>JrIxlS1TzJ-iCu79ul40cQ</td>\n",
       "      <td>1.0</td>\n",
       "      <td>I am a long term frequent customer of this est...</td>\n",
       "    </tr>\n",
       "    <tr>\n",
       "      <th>3</th>\n",
       "      <td>8JFGBuHMoiNDyfcxuWNtrA</td>\n",
       "      <td>4.0</td>\n",
       "      <td>Good food--loved the gnocchi with marinara\\nth...</td>\n",
       "    </tr>\n",
       "    <tr>\n",
       "      <th>4</th>\n",
       "      <td>oyaMhzBSwfGgemSGuZCdwQ</td>\n",
       "      <td>5.0</td>\n",
       "      <td>Tremendous service (Big shout out to Douglas) ...</td>\n",
       "    </tr>\n",
       "  </tbody>\n",
       "</table>\n",
       "</div>"
      ],
      "text/plain": [
       "                review_id  stars  \\\n",
       "0  BiTunyQ73aT9WBnpR9DZGw    5.0   \n",
       "1  AqPFMleE6RsU23_auESxiA    5.0   \n",
       "2  JrIxlS1TzJ-iCu79ul40cQ    1.0   \n",
       "3  8JFGBuHMoiNDyfcxuWNtrA    4.0   \n",
       "4  oyaMhzBSwfGgemSGuZCdwQ    5.0   \n",
       "\n",
       "                                                text  \n",
       "0  I've taken a lot of spin classes over the year...  \n",
       "1  Wow!  Yummy, different,  delicious.   Our favo...  \n",
       "2  I am a long term frequent customer of this est...  \n",
       "3  Good food--loved the gnocchi with marinara\\nth...  \n",
       "4  Tremendous service (Big shout out to Douglas) ...  "
      ]
     },
     "execution_count": 67,
     "metadata": {},
     "output_type": "execute_result"
    }
   ],
   "source": [
    "df_rev = pd.read_csv(\"reviews.csv\")\n",
    "df_rev = df_rev[[\"review_id\", \"stars\", \"text\"]].dropna(axis=0)\n",
    "print(df_rev.shape)\n",
    "df_rev.head()"
   ]
  },
  {
   "cell_type": "code",
   "execution_count": 69,
   "metadata": {},
   "outputs": [
    {
     "name": "stdout",
     "output_type": "stream",
     "text": [
      "(484296, 3)\n"
     ]
    },
    {
     "name": "stderr",
     "output_type": "stream",
     "text": [
      "c:\\Users\\Giannis\\anaconda3\\lib\\site-packages\\pandas\\core\\generic.py:5516: SettingWithCopyWarning: \n",
      "A value is trying to be set on a copy of a slice from a DataFrame.\n",
      "Try using .loc[row_indexer,col_indexer] = value instead\n",
      "\n",
      "See the caveats in the documentation: https://pandas.pydata.org/pandas-docs/stable/user_guide/indexing.html#returning-a-view-versus-a-copy\n",
      "  self[name] = value\n"
     ]
    },
    {
     "data": {
      "text/html": [
       "<div>\n",
       "<style scoped>\n",
       "    .dataframe tbody tr th:only-of-type {\n",
       "        vertical-align: middle;\n",
       "    }\n",
       "\n",
       "    .dataframe tbody tr th {\n",
       "        vertical-align: top;\n",
       "    }\n",
       "\n",
       "    .dataframe thead th {\n",
       "        text-align: right;\n",
       "    }\n",
       "</style>\n",
       "<table border=\"1\" class=\"dataframe\">\n",
       "  <thead>\n",
       "    <tr style=\"text-align: right;\">\n",
       "      <th></th>\n",
       "      <th>review_id</th>\n",
       "      <th>stars</th>\n",
       "      <th>text</th>\n",
       "    </tr>\n",
       "  </thead>\n",
       "  <tbody>\n",
       "    <tr>\n",
       "      <th>0</th>\n",
       "      <td>BiTunyQ73aT9WBnpR9DZGw</td>\n",
       "      <td>True</td>\n",
       "      <td>I've taken a lot of spin classes over the year...</td>\n",
       "    </tr>\n",
       "    <tr>\n",
       "      <th>1</th>\n",
       "      <td>AqPFMleE6RsU23_auESxiA</td>\n",
       "      <td>True</td>\n",
       "      <td>Wow!  Yummy, different,  delicious.   Our favo...</td>\n",
       "    </tr>\n",
       "    <tr>\n",
       "      <th>2</th>\n",
       "      <td>JrIxlS1TzJ-iCu79ul40cQ</td>\n",
       "      <td>False</td>\n",
       "      <td>I am a long term frequent customer of this est...</td>\n",
       "    </tr>\n",
       "    <tr>\n",
       "      <th>4</th>\n",
       "      <td>oyaMhzBSwfGgemSGuZCdwQ</td>\n",
       "      <td>True</td>\n",
       "      <td>Tremendous service (Big shout out to Douglas) ...</td>\n",
       "    </tr>\n",
       "    <tr>\n",
       "      <th>5</th>\n",
       "      <td>Xs8Z8lmKkosqW5mw_sVAoA</td>\n",
       "      <td>True</td>\n",
       "      <td>My absolute favorite cafe in the city. Their b...</td>\n",
       "    </tr>\n",
       "  </tbody>\n",
       "</table>\n",
       "</div>"
      ],
      "text/plain": [
       "                review_id  stars  \\\n",
       "0  BiTunyQ73aT9WBnpR9DZGw   True   \n",
       "1  AqPFMleE6RsU23_auESxiA   True   \n",
       "2  JrIxlS1TzJ-iCu79ul40cQ  False   \n",
       "4  oyaMhzBSwfGgemSGuZCdwQ   True   \n",
       "5  Xs8Z8lmKkosqW5mw_sVAoA   True   \n",
       "\n",
       "                                                text  \n",
       "0  I've taken a lot of spin classes over the year...  \n",
       "1  Wow!  Yummy, different,  delicious.   Our favo...  \n",
       "2  I am a long term frequent customer of this est...  \n",
       "4  Tremendous service (Big shout out to Douglas) ...  \n",
       "5  My absolute favorite cafe in the city. Their b...  "
      ]
     },
     "execution_count": 69,
     "metadata": {},
     "output_type": "execute_result"
    }
   ],
   "source": [
    "extreme_reviews = df_rev.loc[(df_rev.stars == 5.0) | (df_rev.stars == 1.0)]\n",
    "extreme_reviews.stars = extreme_reviews.stars.replace({1.0: False, 5.0: True})\n",
    "print(extreme_reviews.shape)\n",
    "extreme_reviews.head()"
   ]
  },
  {
   "cell_type": "code",
   "execution_count": 70,
   "metadata": {},
   "outputs": [
    {
     "name": "stdout",
     "output_type": "stream",
     "text": [
      "(484296, 3)\n"
     ]
    },
    {
     "data": {
      "text/html": [
       "<div>\n",
       "<style scoped>\n",
       "    .dataframe tbody tr th:only-of-type {\n",
       "        vertical-align: middle;\n",
       "    }\n",
       "\n",
       "    .dataframe tbody tr th {\n",
       "        vertical-align: top;\n",
       "    }\n",
       "\n",
       "    .dataframe thead th {\n",
       "        text-align: right;\n",
       "    }\n",
       "</style>\n",
       "<table border=\"1\" class=\"dataframe\">\n",
       "  <thead>\n",
       "    <tr style=\"text-align: right;\">\n",
       "      <th></th>\n",
       "      <th>review_id</th>\n",
       "      <th>stars</th>\n",
       "      <th>text</th>\n",
       "    </tr>\n",
       "  </thead>\n",
       "  <tbody>\n",
       "    <tr>\n",
       "      <th>167889</th>\n",
       "      <td>oByx0pmWXJhdh3VlgtSg_Q</td>\n",
       "      <td>False</td>\n",
       "      <td>I eat sushi every week. I like to explore new ...</td>\n",
       "    </tr>\n",
       "    <tr>\n",
       "      <th>183163</th>\n",
       "      <td>g1To0sYU_PUzAEKOeZg5Mg</td>\n",
       "      <td>True</td>\n",
       "      <td>Went there for the first time for dinner yeste...</td>\n",
       "    </tr>\n",
       "    <tr>\n",
       "      <th>387866</th>\n",
       "      <td>Yndb6eQqDQ99AgUhbMPBfg</td>\n",
       "      <td>True</td>\n",
       "      <td>So glad this place opened up in this neighborh...</td>\n",
       "    </tr>\n",
       "    <tr>\n",
       "      <th>400172</th>\n",
       "      <td>HpSdeU92Ybpj0dSsD7-2GA</td>\n",
       "      <td>True</td>\n",
       "      <td>when I made the horrible decision of living in...</td>\n",
       "    </tr>\n",
       "    <tr>\n",
       "      <th>281160</th>\n",
       "      <td>An0UQcF-jl020dXGdW7BOA</td>\n",
       "      <td>True</td>\n",
       "      <td>Just because a restaurant is located on A COLL...</td>\n",
       "    </tr>\n",
       "  </tbody>\n",
       "</table>\n",
       "</div>"
      ],
      "text/plain": [
       "                     review_id  stars  \\\n",
       "167889  oByx0pmWXJhdh3VlgtSg_Q  False   \n",
       "183163  g1To0sYU_PUzAEKOeZg5Mg   True   \n",
       "387866  Yndb6eQqDQ99AgUhbMPBfg   True   \n",
       "400172  HpSdeU92Ybpj0dSsD7-2GA   True   \n",
       "281160  An0UQcF-jl020dXGdW7BOA   True   \n",
       "\n",
       "                                                     text  \n",
       "167889  I eat sushi every week. I like to explore new ...  \n",
       "183163  Went there for the first time for dinner yeste...  \n",
       "387866  So glad this place opened up in this neighborh...  \n",
       "400172  when I made the horrible decision of living in...  \n",
       "281160  Just because a restaurant is located on A COLL...  "
      ]
     },
     "execution_count": 70,
     "metadata": {},
     "output_type": "execute_result"
    }
   ],
   "source": [
    "SX = utils.shuffle(extreme_reviews) #shuffle the data\n",
    "print(SX.shape)\n",
    "SX.head()\n"
   ]
  },
  {
   "cell_type": "code",
   "execution_count": 186,
   "metadata": {},
   "outputs": [],
   "source": [
    "vectorizer = CountVectorizer(stop_words='english').fit(SX.text)\n",
    "X = vectorizer.transform(SX.text)\n",
    "y_train = SX.stars"
   ]
  },
  {
   "cell_type": "code",
   "execution_count": 187,
   "metadata": {},
   "outputs": [
    {
     "data": {
      "text/plain": [
       "LogisticRegression(max_iter=600)"
      ]
     },
     "execution_count": 187,
     "metadata": {},
     "output_type": "execute_result"
    }
   ],
   "source": [
    "#------Logistic Regression\n",
    "lr_clf = linear_model.LogisticRegression(solver='lbfgs', max_iter=600)\n",
    "lr_clf.fit(X, y_train)\n"
   ]
  },
  {
   "cell_type": "markdown",
   "metadata": {},
   "source": [
    "Οι λέξεις που χρησιμοποιούνται για αρνητικές κριτικές είναι αυτές με αρνητικά coefficient και όσο πιο χαμηλή τιμή έχουν τόσο πιο σημαντικές είναι για την αρνητική κατηγοριοποίηση. Το αντίστροφο ισχύει για τις λέξεις για την θετική κατηγοριοποίηση με τις θετικές τιμές.<br>\n",
    "Για sensitivities στο range(0.1, 5) με βήμα 0.1 παίρνουμε τις λέξεις που ικανοποιούν το αντίστοιχο sensitivity και τις αποθηκεύουμε σε λίστες."
   ]
  },
  {
   "cell_type": "code",
   "execution_count": 272,
   "metadata": {},
   "outputs": [],
   "source": [
    "feature_names = vectorizer.get_feature_names() # List where each index corresponds to a word \n",
    "negative_words_lists = []\n",
    "positive_words_lists = [] \n",
    " \n",
    "coef_for_negatives = sorted(zip(lr_clf.coef_[0], feature_names))\n",
    "coef_for_positives = sorted(zip(lr_clf.coef_[0], feature_names), reverse=True)\n",
    "\n",
    "for sensitivity in np.arange(0.1, 5, 0.1):  # Sensitivity factor\n",
    "\n",
    "    positive_words = []\n",
    "    negative_words = []\n",
    "\n",
    "    # Keeping the most significant Negative Words\n",
    "    for i, j in coef_for_negatives:\n",
    "        if i > 0:\n",
    "            break\n",
    "        if i < -sensitivity:\n",
    "            negative_words.append(j)\n",
    "\n",
    "    # Keeping the most significant Positive Words\n",
    "    for i, j in coef_for_positives:\n",
    "        if i < 0:\n",
    "            break\n",
    "        if i > sensitivity:\n",
    "            positive_words.append(j)\n",
    "\n",
    "    negative_words_lists.append(negative_words)\n",
    "    positive_words_lists.append(positive_words)"
   ]
  },
  {
   "cell_type": "markdown",
   "metadata": {},
   "source": [
    "Στο παρακάτω block, ελέγχουμε ποιες λέξεις από τα λεξικά που έχουμε δημιουργήσει, ανήκουν στα datasets που κατεβάσαμε και υπολογίζουμε τα accuracy scores από τα μεγέθη των λεξικών. Υπολογίζω και τα negative positives(τις λέξεις που βρήκαμε αλλά δεν ανήκουν στα true datasets)"
   ]
  },
  {
   "cell_type": "code",
   "execution_count": 318,
   "metadata": {},
   "outputs": [],
   "source": [
    "true_negative_words = set(true_positive_negatives.Negative)\n",
    "true_positive_words = set(true_positive_negatives.Positive)\n",
    "\n",
    "positive_hits_list = []\n",
    "positive_misses_list = []\n",
    "\n",
    "for i in range(len(positive_words_lists)):\n",
    "    positive_hits = 0\n",
    "    positive_misses = 0\n",
    "    for pred_positive in positive_words_lists[i]:\n",
    "        if pred_positive in true_positive_words:\n",
    "            positive_hits += 1\n",
    "        else:\n",
    "            positive_misses += 1\n",
    "    positive_hits_list.append(positive_hits)\n",
    "    positive_misses_list.append(positive_misses)\n",
    "\n",
    "negative_hits_list = []\n",
    "negative_misses_list = []\n",
    "\n",
    "for i in range(len(negative_words_lists)):\n",
    "    negative_hits = 0\n",
    "    negative_misses = 0\n",
    "    for pred_negative in negative_words_lists[i]:\n",
    "        if pred_negative in true_negative_words:\n",
    "            negative_hits += 1\n",
    "        else:\n",
    "            negative_misses += 1\n",
    "    negative_hits_list.append(negative_hits)\n",
    "    negative_misses_list.append(negative_misses)\n",
    "\n",
    "\n",
    "# Calculating Negative and Positive scores\n",
    "negative_scores = []\n",
    "for i, negative_hits in enumerate(negative_hits_list):\n",
    "    if len(positive_words_lists[i]) != 0:\n",
    "        negative_scores.append(negative_hits/len(negative_words_lists[i]))\n",
    "    else:\n",
    "        negative_scores.append(0)\n",
    "\n",
    "positive_scores = []\n",
    "for i, positive_hits in enumerate(positive_hits_list):\n",
    "    if len(positive_words_lists[i]) != 0:\n",
    "        positive_scores.append(positive_hits/len(positive_words_lists[i]))\n",
    "    else:\n",
    "        positive_scores.append(0)"
   ]
  },
  {
   "cell_type": "markdown",
   "metadata": {},
   "source": [
    "Στο παρακάτω block αποθηκεύουμε τα μεγέθη των λιστών για κάθε sensitivity."
   ]
  },
  {
   "cell_type": "code",
   "execution_count": 299,
   "metadata": {},
   "outputs": [],
   "source": [
    "negative_words_lists_len = []\n",
    "\n",
    "for i in negative_words_lists:\n",
    "    negative_words_lists_len.append(len(i))\n",
    "\n",
    "positive_words_lists_len = []\n",
    "for i in positive_words_lists:\n",
    "    positive_words_lists_len.append(len(i))\n"
   ]
  },
  {
   "cell_type": "code",
   "execution_count": 316,
   "metadata": {},
   "outputs": [
    {
     "data": {
      "image/png": "[encoded data removed]",
      "text/plain": [
       "<Figure size 1080x360 with 2 Axes>"
      ]
     },
     "metadata": {
      "needs_background": "light"
     },
     "output_type": "display_data"
    }
   ],
   "source": [
    "x_axis1 = np.arange(0.1, 5, 0.1)\n",
    "\n",
    "plt.figure(figsize=(15, 5))\n",
    "plt.subplot(1, 2, 1)\n",
    "plt.plot(x_axis1, positive_scores, label=\"Positive\")\n",
    "plt.plot(x_axis1, negative_scores, label=\"Negative\")\n",
    "plt.title('Sensitivity - Score')\n",
    "plt.xlabel('Sensitivity')\n",
    "plt.ylabel('Score')\n",
    "plt.legend()\n",
    "\n",
    "x_axis2 = np.arange(0, 5, 0.1)\n",
    "plt.subplot(1, 2, 2)\n",
    "plt.yscale('log')\n",
    "plt.plot(x_axis2, positive_words_lists_len, label=\"Positive\")\n",
    "plt.plot(x_axis2, negative_words_lists_len, label=\"Negative\")\n",
    "plt.title('Sensitivity - Length')\n",
    "plt.xlabel('Sensitivity')\n",
    "plt.ylabel('Length')\n",
    "plt.legend()\n",
    "\n",
    "plt.show()"
   ]
  },
  {
   "cell_type": "markdown",
   "metadata": {},
   "source": [
    "Από το Sensitivity - Score διάγραμμα, βλέπουμε ότι όσο αυξάνεται το sensitivity τόσο καλύτερα predictions κάνουμε(οι λέξεις που περιέχει το λεξικό μας είναι όντος negative και positive). Όμως, από το διάγραμμα Sensitivity - Length, βλέπουμε ότι όσο αυξάνεται το sensitivity, μειώνεται το μέγεθος των λεξικών μας. Αυτό είναι το trade-off που παρουσιάζεται και με βάση τα διαγράμματα, θα επέλεγα τα λεξικά που δημιουργήθηκαν με Sensitivity ~ 1.8 που πετυχαίνει Score ~ 0.6 και με μεγέθη λεξικών Length ~ 60.   \n",
    "\n",
    "Το dataset που χρησιμοποιώ για τους ελέγχους είναι πολύ πιθανό να μην περιέχει όλες τις θετικές και αρνητικές λέξεις ειδικά αυτές που αφορούν συγκεκριμένα τα εστιατόρια, αλλά όλες οι λέξεις που περιέχει είναι όντως θετικές και αρνητικές αντίστοιχα. Άρα, τα score που εμφανίζονται είναι οι χειρότερες περιπτώσεις που μπορούμε να πάρουμε. Θα βρω χειρωνακτικά το score στις θετικές λέξεις του λεξικού με Sensitivity ~ 1.8."
   ]
  },
  {
   "cell_type": "code",
   "execution_count": 347,
   "metadata": {},
   "outputs": [
    {
     "name": "stdout",
     "output_type": "stream",
     "text": [
      "Positive Words: incredible, heaven, amazing, delish, phenomenal, kudos, perfection, fantastic, exceptional, delicious, outstanding, deliciousness, excellent, awesome, grateful, bangin, delectable, meticulous, restored, notch, fabulous, perfect, thorough, impeccable, efficient, blast, disappoint, gene, happier, exceeded, addicted, refreshing, skeptical, best, brad, terrific, gem, beat, bubbly, comforter, pleasantly, ndelicious, sabrinas, perfectly, yay, oscar, reasonably, ngreat, pullover, creaking, whining, cornell, situations, orgasm, yummy, wynnewood, favorite, scrumptious, dani, informative, flawless, knowledgeable, appreciated\n",
      "\n",
      "Number of words:63\n",
      "Predicted Accuracy:0.5714285714285714\n"
     ]
    }
   ],
   "source": [
    "print(f\"Positive Words: {', '.join(positive_words_lists[18])}\\n\\nNumber of words:{len(positive_words_lists[18])}\\nPredicted Accuracy:{positive_scores[18]}\")"
   ]
  },
  {
   "cell_type": "markdown",
   "metadata": {},
   "source": [
    "Από τις 63 λέξεις με δικιά μου αξιολόγηση, βρήκα ότι 47 από τις 63 παραπάνω λέξεις είναι όντος θετικές προς τα εστιατόρια που μας δίνει **Accuracy 0.74** που είναι σημαντικά υψηλότερο από αυτό που υπολόγισα με το Dataset."
   ]
  }
 ],
 "metadata": {
  "kernelspec": {
   "display_name": "Python 3 (ipykernel)",
   "language": "python",
   "name": "python3"
  },
  "language_info": {
   "codemirror_mode": {
    "name": "ipython",
    "version": 3
   },
   "file_extension": ".py",
   "mimetype": "text/x-python",
   "name": "python",
   "nbconvert_exporter": "python",
   "pygments_lexer": "ipython3",
   "version": "3.9.7"
  },
  "vscode": {
   "interpreter": {
    "hash": "5bf5137ea94996cf045b4e01cc05ea6528fbc1ec529e737db76b4d8a5ada53af"
   }
  }
 },
 "nbformat": 4,
 "nbformat_minor": 2
}
